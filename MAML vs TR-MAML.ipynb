{
 "cells": [
  {
   "cell_type": "markdown",
   "metadata": {},
   "source": [
    "# Online Meta Learning : 1-D \n"
   ]
  },
  {
   "cell_type": "markdown",
   "metadata": {},
   "source": [
    "## We analyse the MAML algorithm for the batch mode in order to assess its convergence"
   ]
  },
  {
   "cell_type": "markdown",
   "metadata": {},
   "source": [
    "## $\\theta_m = \\theta-\\eta \\nabla f_m(\\theta)$"
   ]
  },
  {
   "cell_type": "markdown",
   "metadata": {},
   "source": [
    "### $f_m(\\theta) = -\\Sigma_{n=1}^N[ y_{mn} ln\\hat{y_{\\theta}} + (1-y_{mn})ln(1-\\hat{y_{\\theta}})]\\frac{1}{N}$"
   ]
  },
  {
   "cell_type": "markdown",
   "metadata": {},
   "source": [
    "### Loss = - $\\Sigma_{m=1}^M \\Sigma_{n=1}^N[ y_{mn} ln\\hat{y_{\\theta_mn}} + (1-y_{mn})ln(1-\\hat{y_{\\theta_mn}})]\\frac{1}{NM}$\n"
   ]
  },
  {
   "cell_type": "markdown",
   "metadata": {},
   "source": [
    "## Hence we have:"
   ]
  },
  {
   "cell_type": "markdown",
   "metadata": {},
   "source": [
    "## $ \\frac{d\\theta_i}{d\\theta} = \\frac{d(\\theta+\\frac{\\eta_1}{N}(\\Sigma_{x,y \\sim T_i}\\frac{y}{y_\\theta}-\\frac{1-y}{1-y_\\theta})\\frac{dy_\\theta}{d\\theta})}{d\\theta} = 1-\\frac{\\eta_1}{N}\\Sigma_{x,y \\sim T_i}((\\frac{y}{y_\\theta^2}+\\frac{1-y}{(1-y_\\theta)^2})(\\frac{d y_\\theta}{d \\theta})^2-(\\frac{y}{y_\\theta}-\\frac{1-y}{1-y_\\theta})\\frac{d^2y_\\theta}{d\\theta^2})$"
   ]
  },
  {
   "cell_type": "markdown",
   "metadata": {},
   "source": [
    "## For this setting we have  :"
   ]
  },
  {
   "cell_type": "markdown",
   "metadata": {},
   "source": [
    "## $ \\frac{d\\theta_i}{d\\theta} = \\frac{d(\\theta+\\frac{\\eta_1}{N}(\\Sigma_{x,y \\sim T_i}\\frac{y}{y_\\theta}-\\frac{1-y}{1-y_\\theta})\\frac{dy_\\theta}{d\\theta})}{d\\theta} = \\frac{d(\\theta+\\frac{\\eta_1}{N}(\\Sigma_{x,y \\sim T_i}(y(1-y_\\theta)-(1-y)y_\\theta))])}{d\\theta} = 1-\\eta_1\\frac{\\Sigma_{x,y \\sim T_i} y_{\\theta} (1-y_\\theta)}{N}$"
   ]
  },
  {
   "cell_type": "markdown",
   "metadata": {},
   "source": [
    "## $ \\frac{d(\\theta+\\eta_1[1/N(\\Sigma_{x,y \\sim T_i}(y(1-y_\\theta)-(1-y)y_\\theta))])}{d\\theta}$"
   ]
  },
  {
   "cell_type": "markdown",
   "metadata": {},
   "source": [
    "# $\\frac{d Loss}{d\\theta} =  \\frac{d Loss}{d y_{\\theta_m}}*\\frac{d y_{\\theta_m}}{d\\theta_m}*\\frac{d\\theta_m}{d\\theta}$"
   ]
  },
  {
   "cell_type": "markdown",
   "metadata": {},
   "source": [
    "## $=(\\frac{y}{y_{\\theta_m}}-\\frac{1-y}{1-y_{\\theta_m}})\\frac{dy_{\\theta_m}}{d\\theta_m}*\\frac{d\\theta_m}{d\\theta}$"
   ]
  },
  {
   "cell_type": "markdown",
   "metadata": {},
   "source": [
    "## For this setting it is:"
   ]
  },
  {
   "cell_type": "markdown",
   "metadata": {},
   "source": [
    "## $ = (y_{\\theta_m}-y)* (1-\\eta_1\\frac{\\Sigma_{x,y \\sim T_i} y_{\\theta} (1-y_\\theta)}{N})$"
   ]
  },
  {
   "cell_type": "markdown",
   "metadata": {},
   "source": [
    "## Hence:"
   ]
  },
  {
   "cell_type": "markdown",
   "metadata": {},
   "source": [
    "## $\\frac{d Loss}{d\\theta} = - \\frac{1}{M}\\Sigma_{m=1}^M \\frac{1}{N_{T_m} }\\Sigma_{x,y \\sim T_m} [(1-\\eta_1 \\Sigma_{x,y \\sim T_{m_{tune}}} \\frac{y_\\theta (1-y_\\theta)}{N})(y-y_{\\theta_m})]$"
   ]
  },
  {
   "cell_type": "markdown",
   "metadata": {},
   "source": [
    "## Update : $\\theta \\rightarrow \\theta+\\eta_2 \\frac{1}{M}\\Sigma_{m=1}^M \\frac{1}{N_{T_m} }\\Sigma_{x,y \\sim T_m} [(1-\\eta_1 \\Sigma_{x,y \\sim T_{m_{tune}}} \\frac{y_\\theta (1-y_\\theta)}{N})(y-y_{\\theta_{mn}})]$"
   ]
  },
  {
   "cell_type": "code",
   "execution_count": 1,
   "metadata": {},
   "outputs": [],
   "source": [
    "import numpy as np\n",
    "import matplotlib.pyplot as plt \n",
    "from scipy.spatial import ConvexHull\n",
    "from quadprog import solve_qp\n",
    "\n",
    "def proj2hull(z, equations):\n",
    "    \"\"\"\n",
    "    Project `z` to the convex hull defined by the\n",
    "    hyperplane equations of the facets\n",
    "\n",
    "    Arguments\n",
    "        z: array, shape (ndim,)\n",
    "        equations: array shape (nfacets, ndim + 1)\n",
    "\n",
    "    Returns\n",
    "        x: array, shape (ndim,)\n",
    "    \"\"\"\n",
    "    G = np.eye(len(z), dtype=float)\n",
    "    a = np.array(z, dtype=float)\n",
    "    C = np.array(-equations[:, :-1], dtype=float)\n",
    "    b = np.array(equations[:, -1], dtype=float)\n",
    "    x, f, xu, itr, lag, act = solve_qp(G, a, C.T, b, meq=0, factorized=True)\n",
    "    return x\n",
    "\n",
    "def random_walk():\n",
    "    a = np.random.randint(0,2, size = (25))\n",
    "    a = np.cumsum(2*a-1)\n",
    "    return(a)\n",
    "\n"
   ]
  },
  {
   "cell_type": "code",
   "execution_count": 2,
   "metadata": {
    "scrolled": true
   },
   "outputs": [
    {
     "data": {
      "text/plain": [
       "[<matplotlib.lines.Line2D at 0x12146a66088>]"
      ]
     },
     "execution_count": 2,
     "metadata": {},
     "output_type": "execute_result"
    },
    {
     "data": {
      "image/png": "[encoded data removed]",
      "text/plain": [
       "<Figure size 432x288 with 1 Axes>"
      ]
     },
     "metadata": {
      "needs_background": "light"
     },
     "output_type": "display_data"
    }
   ],
   "source": [
    "mean_a = random_walk()\n",
    "plt.plot(-mean_a)"
   ]
  },
  {
   "cell_type": "code",
   "execution_count": 3,
   "metadata": {},
   "outputs": [],
   "source": [
    "X = []\n",
    "btl_loss = []\n",
    "btl_param = []\n",
    "X_tune = []\n",
    "\n",
    "\n",
    "for (i,mean) in enumerate(mean_a):\n",
    "    x_curr = np.random.randn(1000)\n",
    "    x_curr = x_curr + mean\n",
    "    X.append(x_curr)    \n",
    "    loss_grad_btl = 0\n",
    "\n",
    "    theta_btl = 0\n"
   ]
  },
  {
   "cell_type": "code",
   "execution_count": 4,
   "metadata": {
    "scrolled": true
   },
   "outputs": [],
   "source": [
    "step_size = 0.5\n",
    "theta_btl = 0\n",
    "step_size_fine = step_size*2\n",
    "\n",
    "for j in range(200):\n",
    "\n",
    "#         loss_grad_ftl = 0\n",
    "    loss_grad_btl = 0\n",
    "    for k,x in enumerate(X):\n",
    "        # I) 1-step fine tuning for task k\n",
    "\n",
    "        # a) Tune data points, x_tune of task m  \n",
    "        if j==0:\n",
    "            X_tune.append(np.random.randn(100)+mean_a[k])\n",
    "\n",
    "        x_tune = X_tune[k]\n",
    "\n",
    "        ind_tune_1 = x_tune > mean_a[k]\n",
    "        ind_tune_0 = x_tune < mean_a[k]\n",
    "\n",
    "        # b) Gradient of loss of task m at theta\n",
    "        loss_fine_grad = (-np.sum((1-1/(1+np.exp(-(x_tune[ind_tune_1]+theta_btl)))))+np.sum(1/(1+np.exp(-(x_tune[ind_tune_0]+theta_btl)))))\n",
    "        loss_fine_grad/=len(x_tune)\n",
    "\n",
    "        # c) Fine tune update\n",
    "        theta_btl_fine = theta_btl-step_size_fine*(loss_fine_grad)\n",
    "\n",
    "        # II) Meta update on the parameter\n",
    "        # a)Theta and Theta_fine predictions on x\n",
    "\n",
    "        y_fine = 1/(1+np.exp(-(x+theta_btl_fine)))\n",
    "        y_theta  = 1/(1+np.exp(-(x_tune+theta_btl)))\n",
    "\n",
    "        # b) True labels for x \n",
    "        ind_1 = x > mean_a[k]\n",
    "        y = np.array(ind_1 ,dtype = 'float')\n",
    "        # c) META UPDATE\n",
    "        loss_grad_btl += -1/(len(X))*(1/len(x))*(1-step_size_fine*np.sum(y_theta*(1-y_theta))/len(x_tune))*np.sum(y-y_fine)\n",
    "    btl_loss.append(loss_grad_btl)\n",
    "    theta_btl = theta_btl - step_size*(loss_grad_btl)\n",
    "    btl_param.append(theta_btl)"
   ]
  },
  {
   "cell_type": "code",
   "execution_count": 5,
   "metadata": {
    "scrolled": true
   },
   "outputs": [
    {
     "data": {
      "text/plain": [
       "[<matplotlib.lines.Line2D at 0x12146b12f48>]"
      ]
     },
     "execution_count": 5,
     "metadata": {},
     "output_type": "execute_result"
    },
    {
     "data": {
      "image/png": "[encoded data removed]",
      "text/plain": [
       "<Figure size 432x288 with 1 Axes>"
      ]
     },
     "metadata": {
      "needs_background": "light"
     },
     "output_type": "display_data"
    }
   ],
   "source": [
    "plt.plot(btl_loss)\n",
    "plt.plot(btl_param)"
   ]
  },
  {
   "cell_type": "markdown",
   "metadata": {},
   "source": [
    "Mini Max Optimisation"
   ]
  },
  {
   "cell_type": "code",
   "execution_count": 6,
   "metadata": {},
   "outputs": [],
   "source": [
    "def projection_simplex_sort(v, z=1):\n",
    "    n_features = v.shape[0]\n",
    "    u = np.sort(v)[::-1]\n",
    "    cssv = np.cumsum(u) - z\n",
    "    ind = np.arange(n_features) + 1\n",
    "    cond = u - cssv / ind > 0\n",
    "    rho = ind[cond][-1]\n",
    "    theta = cssv[cond][-1] / float(rho)\n",
    "    w = np.maximum(v - theta, 0)\n",
    "    return w\n"
   ]
  },
  {
   "cell_type": "code",
   "execution_count": 11,
   "metadata": {
    "scrolled": true
   },
   "outputs": [],
   "source": [
    "step_size = 0.5\n",
    "theta_btl = 0\n",
    "step_size_fine = step_size*2\n",
    "btl_loss = []\n",
    "btl_param = []\n",
    "X_tune = []\n",
    "X = []\n",
    "p = np.ones(len(mean_a))/len(mean_a)\n",
    "six = []\n",
    "sixteen = []\n",
    "for (i,mean) in enumerate(mean_a):\n",
    "    x_curr = np.random.randn(1000)\n",
    "    x_curr = x_curr + mean\n",
    "    X.append(x_curr)    \n",
    "    loss_grad_btl = 0\n",
    "\n",
    "for j in range(250):\n",
    "\n",
    "#         loss_grad_ftl = 0\n",
    "    loss_grad_btl = 0\n",
    "    for k,x in enumerate(X):\n",
    "        # I) 1-step fine tuning for task k\n",
    "\n",
    "        # a) Tune data points, x_tune of task m  \n",
    "        if j==0:\n",
    "            X_tune.append(np.random.randn(100)+mean_a[k])\n",
    "\n",
    "        x_tune = X_tune[k]\n",
    "\n",
    "        ind_tune_1 = x_tune > mean_a[k]\n",
    "        ind_tune_0 = x_tune < mean_a[k]\n",
    "\n",
    "        # b) Gradient of loss of task m at theta\n",
    "        loss_fine_grad = (-np.sum((1-1/(1+np.exp(-(x_tune[ind_tune_1]+theta_btl)))))+np.sum(1/(1+np.exp(-(x_tune[ind_tune_0]+theta_btl)))))\n",
    "        loss_fine_grad/=len(x_tune)\n",
    "\n",
    "        # c) Fine tune update\n",
    "        theta_btl_fine = theta_btl-step_size_fine*(loss_fine_grad)*p[k]\n",
    "\n",
    "        # II) Meta update on the parameter\n",
    "        # a)Theta and Theta_fine predictions on x\n",
    "\n",
    "        y_fine = 1/(1+np.exp(-(x+theta_btl_fine)))\n",
    "        y_theta  = 1/(1+np.exp(-(x_tune+theta_btl)))\n",
    "\n",
    "        # b) True labels for x \n",
    "        ind_1 = x > mean_a[k]\n",
    "        ind_0 = x < mean_a[k]\n",
    "        \n",
    "        y = np.array(ind_1 ,dtype = 'float')\n",
    "        # c) META UPDATE\n",
    "        loss_grad_btl += -p[k]*(1/len(x))*(1-step_size_fine*np.sum(y_theta*(1-y_theta))/len(x_tune))*np.sum(y-y_fine)\n",
    "        \n",
    "        # III) Update p\n",
    "        loss_fine = (np.sum(np.log(1+np.exp(-(x[ind_1]+theta_btl_fine))))-np.sum(np.log(np.exp(-(x[ind_0]+theta_btl_fine))/(1+np.exp(-(x[ind_0]+theta_btl_fine))))))/len(x)\n",
    "        p[k] += 0.1*loss_fine\n",
    "        \n",
    "    btl_loss.append(loss_grad_btl)\n",
    "    theta_btl = theta_btl - step_size*(loss_grad_btl)\n",
    "    btl_param.append(theta_btl)\n",
    "    p = projection_simplex_sort(p)\n",
    "    six.append(p[0])\n",
    "    sixteen.append(p[23])    "
   ]
  },
  {
   "cell_type": "code",
   "execution_count": 12,
   "metadata": {},
   "outputs": [
    {
     "data": {
      "text/plain": [
       "[<matplotlib.lines.Line2D at 0x12146cbe2c8>]"
      ]
     },
     "execution_count": 12,
     "metadata": {},
     "output_type": "execute_result"
    },
    {
     "data": {
      "image/png": "[encoded data removed]",
      "text/plain": [
       "<Figure size 432x288 with 1 Axes>"
      ]
     },
     "metadata": {
      "needs_background": "light"
     },
     "output_type": "display_data"
    }
   ],
   "source": [
    "plt.plot(mean_a)\n",
    "plt.plot(mean_a*p)"
   ]
  },
  {
   "cell_type": "code",
   "execution_count": 13,
   "metadata": {},
   "outputs": [
    {
     "data": {
      "text/plain": [
       "[<matplotlib.lines.Line2D at 0x12146d13fc8>]"
      ]
     },
     "execution_count": 13,
     "metadata": {},
     "output_type": "execute_result"
    },
    {
     "data": {
      "image/png": "[encoded data removed]",
      "text/plain": [
       "<Figure size 432x288 with 1 Axes>"
      ]
     },
     "metadata": {
      "needs_background": "light"
     },
     "output_type": "display_data"
    }
   ],
   "source": [
    "plt.plot(btl_param)\n",
    "plt.plot(btl_loss)"
   ]
  },
  {
   "cell_type": "code",
   "execution_count": 14,
   "metadata": {},
   "outputs": [
    {
     "data": {
      "text/plain": [
       "<matplotlib.collections.PathCollection at 0x12146dc1048>"
      ]
     },
     "execution_count": 14,
     "metadata": {},
     "output_type": "execute_result"
    },
    {
     "data": {
      "image/png": "[encoded data removed]",
      "text/plain": [
       "<Figure size 432x288 with 1 Axes>"
      ]
     },
     "metadata": {
      "needs_background": "light"
     },
     "output_type": "display_data"
    }
   ],
   "source": [
    "plt.scatter(six,sixteen)\n",
    "t = np.arange(0,1,0.01)\n",
    "plt.plot(t,1-t,color = 'orange')\n",
    "plt.scatter(0.5,0.5)"
   ]
  }
 ],
 "metadata": {
  "kernelspec": {
   "display_name": "Python 3",
   "language": "python",
   "name": "python3"
  },
  "language_info": {
   "codemirror_mode": {
    "name": "ipython",
    "version": 3
   },
   "file_extension": ".py",
   "mimetype": "text/x-python",
   "name": "python",
   "nbconvert_exporter": "python",
   "pygments_lexer": "ipython3",
   "version": "3.7.4"
  }
 },
 "nbformat": 4,
 "nbformat_minor": 2
}
